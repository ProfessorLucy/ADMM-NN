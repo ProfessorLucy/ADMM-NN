{
 "cells": [
  {
   "cell_type": "code",
   "execution_count": 1,
   "metadata": {},
   "outputs": [],
   "source": [
    "# set up Python environment: numpy for numerical routines, and matplotlib for plotting\n",
    "import numpy as np\n",
    "import matplotlib.pyplot as plt\n",
    "# display plots in this notebook\n",
    "%matplotlib inline\n",
    "\n",
    "# set display defaults\n",
    "plt.rcParams['figure.figsize'] = (10, 10)        # large images\n",
    "plt.rcParams['image.interpolation'] = 'nearest'  # don't interpolate: show square pixels\n",
    "plt.rcParams['image.cmap'] = 'gray'  # use grayscale output rather than a (potentially misleading) color heatmap"
   ]
  },
  {
   "cell_type": "code",
   "execution_count": 2,
   "metadata": {},
   "outputs": [],
   "source": [
    "# The caffe module needs to be on the Python path;\n",
    "#  we'll add it here explicitly.\n",
    "import sys\n",
    "caffe_root = '/home/yeshaokai/caffe-admm-clustering/'  # this file should be run from {caffe_root}/examples (otherwise change this line)\n",
    "sys.path.insert(0, caffe_root + 'python')\n",
    "\n",
    "import caffe\n",
    "# If you get \"No module named _caffe\", either you have not built pycaffe or you have the wrong path."
   ]
  },
  {
   "cell_type": "code",
   "execution_count": 3,
   "metadata": {},
   "outputs": [],
   "source": [
    "caffe.set_mode_gpu()\n",
    "\n",
    "model_def ='./lenet.prototxt'\n",
    "model_weights = './lenet_clustering_retrain_iter_36000.caffemodel'\n",
    "#model_weights = caffe_root + 'examples/mnist/lenet_admm_lr01.caffemodel'\n",
    "#model_weights = caffe_root + 'examples/mnist/lenet_admm_lr001.caffemodel'\n",
    "#model_weights = caffe_root + 'examples/mnist/lenet_admm_lr0001.caffemodel'\n",
    "\n",
    "net = caffe.Net(model_def,      # defines the structure of the model\n",
    "                model_weights,  # contains the trained weights\n",
    "                caffe.TEST)     # use test mode (e.g., don't perform dropout)"
   ]
  },
  {
   "cell_type": "code",
   "execution_count": 4,
   "metadata": {},
   "outputs": [
    {
     "name": "stdout",
     "output_type": "stream",
     "text": [
      "data\t(64, 1, 28, 28)\n",
      "conv1\t(64, 20, 24, 24)\n",
      "pool1\t(64, 20, 12, 12)\n",
      "conv2\t(64, 50, 8, 8)\n",
      "pool2\t(64, 50, 4, 4)\n",
      "ip1\t(64, 500)\n",
      "ip2\t(64, 10)\n",
      "prob\t(64, 10)\n"
     ]
    }
   ],
   "source": [
    "# for each layer, show the output shape\n",
    "for layer_name, blob in net.blobs.iteritems():\n",
    "    print layer_name + '\\t' + str(blob.data.shape)"
   ]
  },
  {
   "cell_type": "code",
   "execution_count": 5,
   "metadata": {},
   "outputs": [
    {
     "name": "stdout",
     "output_type": "stream",
     "text": [
      "conv1\t(20, 1, 5, 5) (20,)\n",
      "conv2\t(50, 20, 5, 5) (50,)\n",
      "ip1\t(500, 800) (500,)\n",
      "ip2\t(10, 500) (10,)\n"
     ]
    }
   ],
   "source": [
    "for layer_name, param in net.params.iteritems():\n",
    "    print layer_name + '\\t' + str(param[0].data.shape), str(param[1].data.shape)"
   ]
  },
  {
   "cell_type": "code",
   "execution_count": 6,
   "metadata": {},
   "outputs": [],
   "source": [
    "def vis_square(data):\n",
    "    \"\"\"Take an array of shape (n, height, width) or (n, height, width, 3)\n",
    "       and visualize each (height, width) thing in a grid of size approx. sqrt(n) by sqrt(n)\"\"\"\n",
    "    \n",
    "    # normalize data for display\n",
    "    data = (data - data.min()) / (data.max() - data.min())\n",
    "    \n",
    "    # force the number of filters to be square\n",
    "    n = int(np.ceil(np.sqrt(data.shape[0])))\n",
    "    padding = (((0, n ** 2 - data.shape[0]),\n",
    "               (0, 1), (0, 1))                 # add some space between filters\n",
    "               + ((0, 0),) * (data.ndim - 3))  # don't pad the last dimension (if there is one)\n",
    "    data = np.pad(data, padding, mode='constant', constant_values=1)  # pad with ones (white)\n",
    "    \n",
    "    # tile the filters into an image\n",
    "    data = data.reshape((n, n) + data.shape[1:]).transpose((0, 2, 1, 3) + tuple(range(4, data.ndim + 1)))\n",
    "    data = data.reshape((n * data.shape[1], n * data.shape[3]) + data.shape[4:])\n",
    "    \n",
    "    plt.imshow(data); plt.axis('off')"
   ]
  },
  {
   "cell_type": "code",
   "execution_count": 7,
   "metadata": {},
   "outputs": [],
   "source": [
    "# the parameters are a list of [weights, biases]\n",
    "filters = net.params['conv1'][0].data\n",
    "#vis_square(filters.transpose(0, 2, 3, 1))"
   ]
  },
  {
   "cell_type": "code",
   "execution_count": 8,
   "metadata": {},
   "outputs": [
    {
     "name": "stdout",
     "output_type": "stream",
     "text": [
      "(20, 5, 5, 1)\n"
     ]
    }
   ],
   "source": [
    "print filters.transpose(0, 2, 3, 1).shape"
   ]
  },
  {
   "cell_type": "code",
   "execution_count": 9,
   "metadata": {
    "scrolled": false
   },
   "outputs": [
    {
     "data": {
      "text/plain": [
       "Text(0,0.5,'Count')"
      ]
     },
     "execution_count": 9,
     "metadata": {},
     "output_type": "execute_result"
    },
    {
     "data": {
      "image/png": "[encoded data removed]",
      "text/plain": [
       "<Figure size 432x288 with 1 Axes>"
      ]
     },
     "metadata": {},
     "output_type": "display_data"
    }
   ],
   "source": [
    "feat = net.params['conv1'][0].data\n",
    "#plt.subplot(2, 1, 1)\n",
    "#plt.plot(feat.flat)\n",
    "#plt.subplot(2, 1, 2)\n",
    "_ = plt.hist(feat.flat, bins=100)\n",
    "plt.xlabel('Weight value')\n",
    "plt.ylabel('Count')"
   ]
  },
  {
   "cell_type": "code",
   "execution_count": 10,
   "metadata": {},
   "outputs": [
    {
     "data": {
      "text/plain": [
       "Text(0,0.5,'Count')"
      ]
     },
     "execution_count": 10,
     "metadata": {},
     "output_type": "execute_result"
    },
    {
     "data": {
      "image/png": "[encoded data removed]",
      "text/plain": [
       "<Figure size 432x288 with 1 Axes>"
      ]
     },
     "metadata": {},
     "output_type": "display_data"
    }
   ],
   "source": [
    "feat = net.params['conv2'][0].data\n",
    "#plt.subplot(2, 1, 1)\n",
    "#plt.plot(feat.flat)\n",
    "#plt.subplot(2, 1, 2)\n",
    "_ = plt.hist(feat.flat, bins=100)\n",
    "plt.xlabel('Weight value')\n",
    "plt.ylabel('Count')"
   ]
  },
  {
   "cell_type": "code",
   "execution_count": 11,
   "metadata": {},
   "outputs": [
    {
     "data": {
      "text/plain": [
       "Text(0,0.5,'Count')"
      ]
     },
     "execution_count": 11,
     "metadata": {},
     "output_type": "execute_result"
    },
    {
     "data": {
      "image/png": "[encoded data removed]",
      "text/plain": [
       "<Figure size 432x288 with 1 Axes>"
      ]
     },
     "metadata": {},
     "output_type": "display_data"
    }
   ],
   "source": [
    "feat = net.params['ip1'][0].data\n",
    "#plt.subplot(2, 1, 1)\n",
    "#plt.plot(feat.flat)\n",
    "#plt.subplot(2, 1, 2)\n",
    "_ = plt.hist(feat.flat, bins=100)\n",
    "plt.xlabel('Weight value')\n",
    "plt.ylabel('Count')"
   ]
  },
  {
   "cell_type": "code",
   "execution_count": 12,
   "metadata": {},
   "outputs": [
    {
     "data": {
      "text/plain": [
       "Text(0,0.5,'Count')"
      ]
     },
     "execution_count": 12,
     "metadata": {},
     "output_type": "execute_result"
    },
    {
     "data": {
      "image/png": "[encoded data removed]",
      "text/plain": [
       "<Figure size 432x288 with 1 Axes>"
      ]
     },
     "metadata": {},
     "output_type": "display_data"
    }
   ],
   "source": [
    "feat = net.params['ip2'][0].data\n",
    "#plt.subplot(2, 1, 1)\n",
    "#plt.plot(feat.flat)\n",
    "#plt.subplot(2, 1, 2)\n",
    "_ = plt.hist(feat.flat, bins=100)\n",
    "plt.xlabel('Weight value')\n",
    "plt.ylabel('Count')"
   ]
  },
  {
   "cell_type": "markdown",
   "metadata": {},
   "source": [
    "## Weights Before Retrain, after admm"
   ]
  },
  {
   "cell_type": "code",
   "execution_count": 13,
   "metadata": {},
   "outputs": [],
   "source": [
    "model_def = './lenet.prototxt'\n",
    "model_weights ='./lenet_admm_clustering_iter_120000.caffemodel'\n",
    "\n",
    "net = caffe.Net(model_def,      # defines the structure of the model\n",
    "                model_weights,  # contains the trained weights\n",
    "                caffe.TEST)     # use test mode (e.g., don't perform dropout)"
   ]
  },
  {
   "cell_type": "code",
   "execution_count": 14,
   "metadata": {},
   "outputs": [
    {
     "data": {
      "text/plain": [
       "Text(0,0.5,'Count')"
      ]
     },
     "execution_count": 14,
     "metadata": {},
     "output_type": "execute_result"
    },
    {
     "data": {
      "image/png": "[encoded data removed]",
      "text/plain": [
       "<Figure size 432x288 with 1 Axes>"
      ]
     },
     "metadata": {},
     "output_type": "display_data"
    }
   ],
   "source": [
    "feat = net.params['conv1'][0].data\n",
    "#plt.subplot(2, 1, 1)\n",
    "#plt.plot(feat.flat)\n",
    "#plt.subplot(2, 1, 2)\n",
    "_ = plt.hist(feat.flat, bins=100)\n",
    "plt.xlabel('Weight value')\n",
    "plt.ylabel('Count')"
   ]
  },
  {
   "cell_type": "code",
   "execution_count": 15,
   "metadata": {},
   "outputs": [
    {
     "data": {
      "text/plain": [
       "Text(0,0.5,'Count')"
      ]
     },
     "execution_count": 15,
     "metadata": {},
     "output_type": "execute_result"
    },
    {
     "data": {
      "image/png": "[encoded data removed]",
      "text/plain": [
       "<Figure size 432x288 with 1 Axes>"
      ]
     },
     "metadata": {},
     "output_type": "display_data"
    }
   ],
   "source": [
    "feat = net.params['conv2'][0].data\n",
    "#plt.subplot(2, 1, 1)\n",
    "#plt.plot(feat.flat)\n",
    "#plt.subplot(2, 1, 2)\n",
    "_ = plt.hist(feat.flat, bins=100)\n",
    "plt.xlabel('Weight value')\n",
    "plt.ylabel('Count')"
   ]
  },
  {
   "cell_type": "code",
   "execution_count": 16,
   "metadata": {},
   "outputs": [
    {
     "data": {
      "text/plain": [
       "Text(0,0.5,'Count')"
      ]
     },
     "execution_count": 16,
     "metadata": {},
     "output_type": "execute_result"
    },
    {
     "data": {
      "image/png": "[encoded data removed]",
      "text/plain": [
       "<Figure size 432x288 with 1 Axes>"
      ]
     },
     "metadata": {},
     "output_type": "display_data"
    }
   ],
   "source": [
    "feat = net.params['ip1'][0].data\n",
    "#plt.subplot(2, 1, 1)\n",
    "#plt.plot(feat.flat)\n",
    "#plt.subplot(2, 1, 2)\n",
    "_ = plt.hist(feat.flat, bins=100)\n",
    "plt.xlabel('Weight value')\n",
    "plt.ylabel('Count')"
   ]
  },
  {
   "cell_type": "code",
   "execution_count": 17,
   "metadata": {},
   "outputs": [
    {
     "data": {
      "text/plain": [
       "Text(0,0.5,'Count')"
      ]
     },
     "execution_count": 17,
     "metadata": {},
     "output_type": "execute_result"
    },
    {
     "data": {
      "image/png": "[encoded data removed]",
      "text/plain": [
       "<Figure size 432x288 with 1 Axes>"
      ]
     },
     "metadata": {},
     "output_type": "display_data"
    }
   ],
   "source": [
    "feat = net.params['ip2'][0].data\n",
    "#plt.subplot(2, 1, 1)\n",
    "#plt.plot(feat.flat)\n",
    "#plt.subplot(2, 1, 2)\n",
    "_ = plt.hist(feat.flat, bins=100)\n",
    "plt.xlabel('Weight value')\n",
    "plt.ylabel('Count')"
   ]
  },
  {
   "cell_type": "code",
   "execution_count": 18,
   "metadata": {},
   "outputs": [],
   "source": [
    "caffe.set_mode_gpu()\n",
    "\n",
    "model_def = './lenet.prototxt'\n",
    "model_weights = './lenet_pruning_iter_50000.caffemodel'\n",
    "#model_weights = caffe_root + 'examples/mnist/lenet_admm_lr01.caffemodel'\n",
    "#model_weights = caffe_root + 'examples/mnist/lenet_admm_lr001.caffemodel'\n",
    "#model_weights = caffe_root + 'examples/mnist/lenet_admm_lr0001.caffemodel'\n",
    "\n",
    "net = caffe.Net(model_def,      # defines the structure of the model\n",
    "                model_weights,  # contains the trained weights\n",
    "                caffe.TEST)     # use test mode (e.g., don't perform dropout)"
   ]
  },
  {
   "cell_type": "code",
   "execution_count": 19,
   "metadata": {},
   "outputs": [
    {
     "data": {
      "text/plain": [
       "Text(0,0.5,'Count')"
      ]
     },
     "execution_count": 19,
     "metadata": {},
     "output_type": "execute_result"
    },
    {
     "data": {
      "image/png": "[encoded data removed]",
      "text/plain": [
       "<Figure size 432x288 with 1 Axes>"
      ]
     },
     "metadata": {},
     "output_type": "display_data"
    }
   ],
   "source": [
    "feat = net.params['conv1'][0].data\n",
    "#plt.subplot(2, 1, 1)\n",
    "#plt.plot(feat.flat)\n",
    "#plt.subplot(2, 1, 2)\n",
    "_ = plt.hist(feat.flat, bins=100)\n",
    "plt.xlabel('Weight value')\n",
    "plt.ylabel('Count')"
   ]
  },
  {
   "cell_type": "code",
   "execution_count": 20,
   "metadata": {},
   "outputs": [
    {
     "data": {
      "text/plain": [
       "Text(0,0.5,'Count')"
      ]
     },
     "execution_count": 20,
     "metadata": {},
     "output_type": "execute_result"
    },
    {
     "data": {
      "image/png": "[encoded data removed]",
      "text/plain": [
       "<Figure size 432x288 with 1 Axes>"
      ]
     },
     "metadata": {},
     "output_type": "display_data"
    }
   ],
   "source": [
    "feat = net.params['conv2'][0].data\n",
    "#plt.subplot(2, 1, 1)\n",
    "#plt.plot(feat.flat)\n",
    "#plt.subplot(2, 1, 2)\n",
    "_ = plt.hist(feat.flat, bins=100)\n",
    "plt.xlabel('Weight value')\n",
    "plt.ylabel('Count')"
   ]
  },
  {
   "cell_type": "code",
   "execution_count": 21,
   "metadata": {},
   "outputs": [
    {
     "data": {
      "text/plain": [
       "Text(0,0.5,'Count')"
      ]
     },
     "execution_count": 21,
     "metadata": {},
     "output_type": "execute_result"
    },
    {
     "data": {
      "image/png": "[encoded data removed]",
      "text/plain": [
       "<Figure size 432x288 with 1 Axes>"
      ]
     },
     "metadata": {},
     "output_type": "display_data"
    }
   ],
   "source": [
    "feat = net.params['ip1'][0].data\n",
    "#plt.subplot(2, 1, 1)\n",
    "#plt.plot(feat.flat)\n",
    "#plt.subplot(2, 1, 2)\n",
    "_ = plt.hist(feat.flat, bins=100)\n",
    "plt.xlabel('Weight value')\n",
    "plt.ylabel('Count')"
   ]
  },
  {
   "cell_type": "code",
   "execution_count": 22,
   "metadata": {},
   "outputs": [
    {
     "data": {
      "text/plain": [
       "Text(0,0.5,'Count')"
      ]
     },
     "execution_count": 22,
     "metadata": {},
     "output_type": "execute_result"
    },
    {
     "data": {
      "image/png": "[encoded data removed]",
      "text/plain": [
       "<Figure size 432x288 with 1 Axes>"
      ]
     },
     "metadata": {},
     "output_type": "display_data"
    }
   ],
   "source": [
    "feat = net.params['ip2'][0].data\n",
    "#plt.subplot(2, 1, 1)\n",
    "#plt.plot(feat.flat)\n",
    "#plt.subplot(2, 1, 2)\n",
    "_ = plt.hist(feat.flat, bins=100)\n",
    "plt.xlabel('Weight value')\n",
    "plt.ylabel('Count')"
   ]
  },
  {
   "cell_type": "code",
   "execution_count": 23,
   "metadata": {},
   "outputs": [
    {
     "name": "stdout",
     "output_type": "stream",
     "text": [
      "conv1\t500\t330\t34.0%\n",
      "conv2\t25000\t3000\t88.0%\n",
      "ip1\t400000\t32000\t92.0%\n",
      "ip2\t5000\t950\t81.0%\n"
     ]
    }
   ],
   "source": [
    "for layer_name, param in net.params.iteritems():\n",
    "    weights = param[0].data\n",
    "    print layer_name + '\\t' + str(len(weights.flat)) + '\\t' + str(np.sum(weights != 0)) + '\\t' + str(100.0 - np.sum(weights != 0)*100.0/len(weights.flat)) + '%'"
   ]
  },
  {
   "cell_type": "code",
   "execution_count": null,
   "metadata": {},
   "outputs": [],
   "source": []
  },
  {
   "cell_type": "code",
   "execution_count": null,
   "metadata": {},
   "outputs": [],
   "source": []
  }
 ],
 "metadata": {
  "kernelspec": {
   "display_name": "Python 2",
   "language": "python",
   "name": "python2"
  },
  "language_info": {
   "codemirror_mode": {
    "name": "ipython",
    "version": 2
   },
   "file_extension": ".py",
   "mimetype": "text/x-python",
   "name": "python",
   "nbconvert_exporter": "python",
   "pygments_lexer": "ipython2",
   "version": "2.7.12"
  }
 },
 "nbformat": 4,
 "nbformat_minor": 2
}
